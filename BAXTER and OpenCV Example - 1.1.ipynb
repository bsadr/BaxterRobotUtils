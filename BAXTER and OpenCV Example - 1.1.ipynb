{
 "cells": [
  {
   "cell_type": "markdown",
   "metadata": {},
   "source": [
    "# This notebook finds a circle (according to its colour) and publishes the radius and coordinates for its centre."
   ]
  },
  {
   "cell_type": "code",
   "execution_count": 1,
   "metadata": {
    "collapsed": false
   },
   "outputs": [],
   "source": [
    "import sys\n",
    "import colorsys\n",
    "import json\n",
    "\n",
    "import numpy\n",
    "import cv2\n",
    "\n",
    "import rospy\n",
    "\n",
    "from std_msgs.msg import String\n",
    "from sensor_msgs.msg import Image\n",
    "\n",
    "# ROS uses a serial format to transmit images, therefore\n",
    "# it's necessary to convert it to an array in order to \n",
    "# use the images with Numpy or OpenCV\n",
    "from cv_bridge import CvBridge\n",
    "cv_bridge = CvBridge()"
   ]
  },
  {
   "cell_type": "code",
   "execution_count": 2,
   "metadata": {
    "collapsed": true
   },
   "outputs": [],
   "source": [
    "# Don't forget to change according to the arm you are using...\n",
    "limb = \"right\""
   ]
  },
  {
   "cell_type": "code",
   "execution_count": 3,
   "metadata": {
    "collapsed": true
   },
   "outputs": [],
   "source": [
    "# Here we are using the option \"disable_signals\" because ROS and OpenCV\n",
    "# try to control the same low level signals, so it's necessary to disable it\n",
    "# on ROS to avoid conflicts.\n",
    "rospy.init_node('image_reader', disable_signals=True, anonymous=True)"
   ]
  },
  {
   "cell_type": "code",
   "execution_count": 4,
   "metadata": {
    "collapsed": true
   },
   "outputs": [],
   "source": [
    "received_image = [None]\n",
    "\n",
    "# This is the function rospy will call everytime an image is received\n",
    "def callback_camera_image(data):\n",
    "    try:\n",
    "        # OpenCV uses \"bgr8\", but Numpy uses \"rgb8\".\n",
    "        # You can use cv2.cvtColor(opencv_img, cv2.COLOR_BGR2RGB )\n",
    "        # and convert from OpenCV style to Numpy.\n",
    "        opencv_img = cv_bridge.imgmsg_to_cv2(data, \"bgr8\")\n",
    "    except Exception as err:\n",
    "        print err\n",
    "    \n",
    "    received_image[0] = opencv_img"
   ]
  },
  {
   "cell_type": "code",
   "execution_count": 5,
   "metadata": {
    "collapsed": true
   },
   "outputs": [],
   "source": [
    "# This is the function rospy will call on shutdown\n",
    "def shutdown():\n",
    "    cv2.destroyAllWindows()\n",
    "    print \"Finishing...\""
   ]
  },
  {
   "cell_type": "code",
   "execution_count": 6,
   "metadata": {
    "collapsed": true
   },
   "outputs": [],
   "source": [
    "rospy.on_shutdown(shutdown)"
   ]
  },
  {
   "cell_type": "code",
   "execution_count": 7,
   "metadata": {
    "collapsed": false
   },
   "outputs": [],
   "source": [
    "# Make sure the camera is available (open):\n",
    "# rosrun baxter_tools camera_control.py -l\n",
    "image_sub = rospy.Subscriber(\"/cameras/\"+limb+\"_hand_camera/image\",Image,callback_camera_image)"
   ]
  },
  {
   "cell_type": "code",
   "execution_count": 8,
   "metadata": {
    "collapsed": false
   },
   "outputs": [],
   "source": [
    "# Publisher for the coordinates found by OpenCV\n",
    "coord_pub = rospy.Publisher('/coordinates_from_opencv_'+limb,String, queue_size = 1)"
   ]
  },
  {
   "cell_type": "code",
   "execution_count": 9,
   "metadata": {
    "collapsed": true
   },
   "outputs": [],
   "source": [
    "window_name_orig = \"BAXTER Camera Original\"\n",
    "window_name_cv2 = \"BAXTER Camera CV2\"\n",
    "\n",
    "cv2.startWindowThread()\n",
    "cv2.namedWindow(window_name_orig,cv2.WINDOW_NORMAL)\n",
    "cv2.namedWindow(window_name_cv2,cv2.WINDOW_NORMAL)"
   ]
  },
  {
   "cell_type": "code",
   "execution_count": 10,
   "metadata": {
    "collapsed": true
   },
   "outputs": [],
   "source": [
    "rate = rospy.Rate(10)"
   ]
  },
  {
   "cell_type": "code",
   "execution_count": null,
   "metadata": {
    "collapsed": false
   },
   "outputs": [],
   "source": [
    "# http://docs.opencv.org/3.1.0/da/d22/tutorial_py_canny.html\n",
    "# http://docs.opencv.org/2.4/modules/imgproc/doc/feature_detection.html?highlight=houghcircles#houghcircles\n",
    "# http://www.pyimagesearch.com/2014/07/21/detecting-circles-images-using-opencv-hough-circles/\n",
    "\n",
    "\n",
    "LowerHSV = (5, 50, 50)\n",
    "UpperHSV = (30, 255, 255)\n",
    "\n",
    "\n",
    "while True:\n",
    "    original = received_image[0].copy()\n",
    "    \n",
    "    low_res = cv2.resize(original, (320,200))\n",
    "\n",
    "    \n",
    "    # Converts the image to gray scale\n",
    "    gray = cv2.cvtColor(low_res, cv2.COLOR_BGR2GRAY)\n",
    "    \n",
    "    gray = cv2.equalizeHist(gray)\n",
    "    \n",
    "    # Converts the image to HSV\n",
    "    hsv = cv2.cvtColor(low_res, cv2.COLOR_BGR2HSV)\n",
    "    \n",
    "    \n",
    "    # Blurs the image\n",
    "    # blurred = cv2.GaussianBlur(gray, (5, 5), 0)\n",
    "    \n",
    "    # Apply a threshold binary filter\n",
    "    # thresh = cv2.threshold(blurred, 60, 255, cv2.THRESH_BINARY)[1]\n",
    "    \n",
    "    # Finds edges\n",
    "    # edges = cv2.Canny(gray,100,200)\n",
    "    \n",
    "\n",
    "    # Filters according to the colour\n",
    "    mask = cv2.inRange(hsv, LowerHSV, UpperHSV)\n",
    "    \n",
    "    # The function names say everything...\n",
    "    mask = cv2.erode(mask, None, iterations=2)\n",
    "    mask = cv2.dilate(mask, None, iterations=2)\n",
    "\n",
    "    \n",
    "    #\n",
    "    # Detecting circles in the image\n",
    "    #\n",
    "    \n",
    "#     #\n",
    "#     # Using cv2.HoughCircles\n",
    "#     #\n",
    "    \n",
    "#     # Blurs the image\n",
    "#     blurred = cv2.GaussianBlur(mask, (5, 5), 0)\n",
    "    \n",
    "#     circles = cv2.HoughCircles(blurred, cv2.cv.CV_HOUGH_GRADIENT, 1.2, 100)\n",
    "    \n",
    "#     # ensure at least some circles were found\n",
    "#     if circles is not None:\n",
    "#         # convert the (x, y) coordinates and radius of the circles to integers\n",
    "#         circles = numpy.round(circles[0, :]).astype(\"int\")\n",
    "\n",
    "#         # loop over the (x, y) coordinates and radius of the circles\n",
    "#         for (x, y, r) in circles:\n",
    "#             # draw the circle in the output image, then draw a rectangle\n",
    "#             # corresponding to the center of the circle\n",
    "#             cv2.circle(low_res, (x, y), r, (0, 255, 0), 4)\n",
    "#             cv2.rectangle(low_res, (x - 5, y - 5), (x + 5, y + 5), (0, 128, 255), -1)\n",
    "            \n",
    "    #\n",
    "    # Using cv2.findContours\n",
    "    #\n",
    "    cnts = cv2.findContours(mask.copy(), cv2.RETR_EXTERNAL, cv2.CHAIN_APPROX_SIMPLE)[-2]\n",
    "    minimum_radius = 5\n",
    "\n",
    "    # only proceed if at least one contour was found\n",
    "    if len(cnts) > 0:\n",
    "        # find the largest contour in the mask, then use\n",
    "        # it to compute the minimum enclosing circle and\n",
    "        # centroid\n",
    "        c = max(cnts, key=cv2.contourArea)\n",
    "        ((x, y), radius) = cv2.minEnclosingCircle(c)\n",
    "        M = cv2.moments(c)\n",
    "        centre = (int(M[\"m10\"] / M[\"m00\"]), int(M[\"m01\"] / M[\"m00\"]))\n",
    "\n",
    "        # only proceed if the radius meets a minimum size\n",
    "        if radius > minimum_radius:\n",
    "            # draw the circle and centroid on the frame,\n",
    "            # then update the list of tracked points\n",
    "            cv2.circle(low_res, (int(x), int(y)), int(radius),(0, 255, 255), 2)\n",
    "            cv2.circle(low_res, centre, 5, (0, 0, 255), -1)\n",
    "            \n",
    "            # Publishes the coordinates for the circle and its radius\n",
    "            coord_pub.publish(String(json.dumps([centre[0],centre[1],radius])))\n",
    "    \n",
    "    cv2.imshow(window_name_orig, low_res)\n",
    "    cv2.imshow(window_name_cv2, mask)\n",
    "    rate.sleep()\n",
    "    \n",
    "    key = cv2.waitKey(1) & 0xFF\n",
    "    # if the 'q' key is pressed, stop the loop\n",
    "    if key == ord(\"q\"):\n",
    "        break"
   ]
  },
  {
   "cell_type": "code",
   "execution_count": 26,
   "metadata": {
    "collapsed": false
   },
   "outputs": [
    {
     "data": {
      "text/plain": [
       "30.0"
      ]
     },
     "execution_count": 26,
     "metadata": {},
     "output_type": "execute_result"
    }
   ],
   "source": [
    "# Grab a value from the original window and convert it to HSV\n",
    "# https://en.wikipedia.org/wiki/HSL_and_HSV\n",
    "hsv_colorsys = colorsys.rgb_to_hsv(80, 50, 38)\n",
    "hsv_colorsys[0]*180 # OpenCV hue values go from 0 to 180"
   ]
  },
  {
   "cell_type": "code",
   "execution_count": null,
   "metadata": {
    "collapsed": true
   },
   "outputs": [],
   "source": []
  }
 ],
 "metadata": {
  "kernelspec": {
   "display_name": "Python 2",
   "language": "python",
   "name": "python2"
  },
  "language_info": {
   "codemirror_mode": {
    "name": "ipython",
    "version": 2
   },
   "file_extension": ".py",
   "mimetype": "text/x-python",
   "name": "python",
   "nbconvert_exporter": "python",
   "pygments_lexer": "ipython2",
   "version": "2.7.12"
  }
 },
 "nbformat": 4,
 "nbformat_minor": 0
}
