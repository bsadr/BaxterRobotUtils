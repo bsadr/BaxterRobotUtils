{
 "cells": [
  {
   "cell_type": "markdown",
   "metadata": {},
   "source": [
    "# Reads the coordinates / radius and tries to approximade the gripper keeping it centered at the coordinates\n",
    "\n",
    "## We know the image size..."
   ]
  },
  {
   "cell_type": "code",
   "execution_count": 1,
   "metadata": {
    "collapsed": true
   },
   "outputs": [],
   "source": [
    "import time\n",
    "import json\n",
    "\n",
    "import rospy\n",
    "\n",
    "# http://api.rethinkrobotics.com/baxter_interface/html/index.html\n",
    "import baxter_interface\n",
    "\n",
    "from baxter_core_msgs.msg import EndpointState\n",
    "\n",
    "from std_msgs.msg import String\n",
    "\n",
    "# https://github.com/ricardodeazambuja/BaxterRobotUtils/blob/master/ik_client.py\n",
    "from ik_client import ik_service\n",
    "# http://sdk.rethinkrobotics.com/wiki/IK_Service_Example"
   ]
  },
  {
   "cell_type": "code",
   "execution_count": 2,
   "metadata": {
    "collapsed": true
   },
   "outputs": [],
   "source": [
    "limb = 'right'\n",
    "\n",
    "gripper_force_threshold = 30 # in percentage\n",
    "gripper_vacuum_threshold = 18 # in percentage"
   ]
  },
  {
   "cell_type": "code",
   "execution_count": 3,
   "metadata": {
    "collapsed": false
   },
   "outputs": [],
   "source": [
    "# Receives a list of poses / gripper commands\n",
    "ik = ik_service(limb, speed=0.3)"
   ]
  },
  {
   "cell_type": "code",
   "execution_count": 4,
   "metadata": {
    "collapsed": false
   },
   "outputs": [
    {
     "name": "stdout",
     "output_type": "stream",
     "text": [
      "Using the suction gripper.\n"
     ]
    }
   ],
   "source": [
    "gripper = baxter_interface.Gripper(limb)\n",
    "\n",
    "print \"Using the \" + gripper.type() + \" gripper.\"\n",
    "\n",
    "if gripper.type() == 'electric':\n",
    "    print \"Calibrating the electric gripper\"\n",
    "    gripper.calibrate()\n",
    "    gripper.set_holding_force(gripper_force_threshold)\n",
    "else:\n",
    "    gripper.set_vacuum_threshold(gripper_vacuum_threshold)"
   ]
  },
  {
   "cell_type": "code",
   "execution_count": 5,
   "metadata": {
    "collapsed": false
   },
   "outputs": [
    {
     "name": "stdout",
     "output_type": "stream",
     "text": [
      "Gripper parameters:  {'blow_off_seconds': 0.4, 'vacuum_sensor_threshold': 18}\n"
     ]
    }
   ],
   "source": [
    "print \"Gripper parameters: \",gripper.parameters()"
   ]
  },
  {
   "cell_type": "code",
   "execution_count": 6,
   "metadata": {
    "collapsed": true
   },
   "outputs": [],
   "source": [
    "# Callback function for the coord_sub subscriber\n",
    "coord_data = [None]\n",
    "def coord_sub_cb(data):\n",
    "    coord_data[0] = json.loads(data.data) "
   ]
  },
  {
   "cell_type": "code",
   "execution_count": 7,
   "metadata": {
    "collapsed": true
   },
   "outputs": [],
   "source": [
    "# Subscribes to the topic where we can find the coordinates\n",
    "coord_sub = rospy.Subscriber('/coordinates_from_opencv_'+limb,String,coord_sub_cb)"
   ]
  },
  {
   "cell_type": "code",
   "execution_count": 18,
   "metadata": {
    "collapsed": false
   },
   "outputs": [
    {
     "data": {
      "text/plain": [
       "[[187, 94, 16.910110473632812]]"
      ]
     },
     "execution_count": 18,
     "metadata": {},
     "output_type": "execute_result"
    }
   ],
   "source": [
    "# Test our subscriber\n",
    "coord_data"
   ]
  },
  {
   "cell_type": "code",
   "execution_count": 9,
   "metadata": {
    "collapsed": true
   },
   "outputs": [],
   "source": [
    "# Callback function for the endpoint_state_sub subscriber\n",
    "endpoint_state_data = [None]\n",
    "def endpoint_state_sub_cb(data):\n",
    "    endpoint_state_data[0] = data"
   ]
  },
  {
   "cell_type": "code",
   "execution_count": 11,
   "metadata": {
    "collapsed": false
   },
   "outputs": [],
   "source": [
    "endpoint_state_topic = '/robot/limb/'+limb+'/endpoint_state'\n",
    "endpoint_state_sub = rospy.Subscriber(endpoint_state_topic, EndpointState,endpoint_state_sub_cb,queue_size=1)"
   ]
  },
  {
   "cell_type": "code",
   "execution_count": 28,
   "metadata": {
    "collapsed": false
   },
   "outputs": [
    {
     "data": {
      "text/plain": [
       "position: \n",
       "  x: 0.7404090929\n",
       "  y: -0.125512546672\n",
       "  z: 0.123621244418\n",
       "orientation: \n",
       "  x: -0.0551334407682\n",
       "  y: 0.998187941222\n",
       "  z: -0.0112932677589\n",
       "  w: 0.0212978828142"
      ]
     },
     "execution_count": 28,
     "metadata": {},
     "output_type": "execute_result"
    }
   ],
   "source": [
    "# Test our subscriber\n",
    "endpoint_state_data[0].pose"
   ]
  },
  {
   "cell_type": "code",
   "execution_count": 19,
   "metadata": {
    "collapsed": false
   },
   "outputs": [],
   "source": [
    "rate = rospy.Rate(10)\n",
    "While True:\n",
    "    if coord_data[0] != None and endpoint_state_data[0] != None:\n",
    "        # Keep the same original pose\n",
    "        quat = [endpoint_state_data[0].pose.orientation.x,\n",
    "               endpoint_state_data[0].pose.orientation.y,\n",
    "               endpoint_state_data[0].pose.orientation.z,\n",
    "               endpoint_state_data[0].pose.orientation.w]\n",
    "        \n",
    "        pos = [endpoint_state_data[0].pose.position.x,\n",
    "              endpoint_state_data[0].pose.position.y,\n",
    "              endpoint_state_data[0].pose.position.z]\n",
    "        #\n",
    "        # Now you need to do the magic to keep the gripper aligned...\n",
    "        #\n",
    "\n",
    "        if not ik.ik_call(pos, quat):\n",
    "            ik.ik_move_to(timeout=15)\n",
    "            if g_i:\n",
    "                gripper.close()\n",
    "            else:\n",
    "                gripper.open()\n",
    "        else:\n",
    "            print \"IK returned an error...\"\n",
    "\n",
    "    # Makes sure the while loop will not go crazy eating all your cpu resources... \n",
    "    rate.sleep()"
   ]
  }
 ],
 "metadata": {
  "kernelspec": {
   "display_name": "Python 2",
   "language": "python",
   "name": "python2"
  },
  "language_info": {
   "codemirror_mode": {
    "name": "ipython",
    "version": 2
   },
   "file_extension": ".py",
   "mimetype": "text/x-python",
   "name": "python",
   "nbconvert_exporter": "python",
   "pygments_lexer": "ipython2",
   "version": "2.7.12"
  }
 },
 "nbformat": 4,
 "nbformat_minor": 0
}
